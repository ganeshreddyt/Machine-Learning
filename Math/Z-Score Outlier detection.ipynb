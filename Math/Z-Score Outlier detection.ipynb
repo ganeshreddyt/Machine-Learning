{
 "cells": [
  {
   "cell_type": "code",
   "execution_count": 29,
   "id": "4db5a21b-8139-4a50-8aeb-68eea6ff61c3",
   "metadata": {},
   "outputs": [],
   "source": [
    "### Outliers Detection"
   ]
  },
  {
   "cell_type": "code",
   "execution_count": 1,
   "id": "0813cf98-393b-47de-88b8-d6f7702fed23",
   "metadata": {},
   "outputs": [
    {
     "data": {
      "text/html": [
       "<div>\n",
       "<style scoped>\n",
       "    .dataframe tbody tr th:only-of-type {\n",
       "        vertical-align: middle;\n",
       "    }\n",
       "\n",
       "    .dataframe tbody tr th {\n",
       "        vertical-align: top;\n",
       "    }\n",
       "\n",
       "    .dataframe thead th {\n",
       "        text-align: right;\n",
       "    }\n",
       "</style>\n",
       "<table border=\"1\" class=\"dataframe\">\n",
       "  <thead>\n",
       "    <tr style=\"text-align: right;\">\n",
       "      <th></th>\n",
       "      <th>location</th>\n",
       "      <th>size</th>\n",
       "      <th>total_sqft</th>\n",
       "      <th>bath</th>\n",
       "      <th>price</th>\n",
       "      <th>bhk</th>\n",
       "      <th>price_per_sqft</th>\n",
       "    </tr>\n",
       "  </thead>\n",
       "  <tbody>\n",
       "    <tr>\n",
       "      <th>0</th>\n",
       "      <td>Electronic City Phase II</td>\n",
       "      <td>2 BHK</td>\n",
       "      <td>1056.0</td>\n",
       "      <td>2.0</td>\n",
       "      <td>39.07</td>\n",
       "      <td>2</td>\n",
       "      <td>3699</td>\n",
       "    </tr>\n",
       "    <tr>\n",
       "      <th>1</th>\n",
       "      <td>Chikka Tirupathi</td>\n",
       "      <td>4 Bedroom</td>\n",
       "      <td>2600.0</td>\n",
       "      <td>5.0</td>\n",
       "      <td>120.00</td>\n",
       "      <td>4</td>\n",
       "      <td>4615</td>\n",
       "    </tr>\n",
       "    <tr>\n",
       "      <th>2</th>\n",
       "      <td>Uttarahalli</td>\n",
       "      <td>3 BHK</td>\n",
       "      <td>1440.0</td>\n",
       "      <td>2.0</td>\n",
       "      <td>62.00</td>\n",
       "      <td>3</td>\n",
       "      <td>4305</td>\n",
       "    </tr>\n",
       "    <tr>\n",
       "      <th>3</th>\n",
       "      <td>Lingadheeranahalli</td>\n",
       "      <td>3 BHK</td>\n",
       "      <td>1521.0</td>\n",
       "      <td>3.0</td>\n",
       "      <td>95.00</td>\n",
       "      <td>3</td>\n",
       "      <td>6245</td>\n",
       "    </tr>\n",
       "    <tr>\n",
       "      <th>4</th>\n",
       "      <td>Kothanur</td>\n",
       "      <td>2 BHK</td>\n",
       "      <td>1200.0</td>\n",
       "      <td>2.0</td>\n",
       "      <td>51.00</td>\n",
       "      <td>2</td>\n",
       "      <td>4250</td>\n",
       "    </tr>\n",
       "  </tbody>\n",
       "</table>\n",
       "</div>"
      ],
      "text/plain": [
       "                   location       size  total_sqft  bath   price  bhk  price_per_sqft\n",
       "0  Electronic City Phase II      2 BHK      1056.0   2.0   39.07    2            3699\n",
       "1          Chikka Tirupathi  4 Bedroom      2600.0   5.0  120.00    4            4615\n",
       "2               Uttarahalli      3 BHK      1440.0   2.0   62.00    3            4305\n",
       "3        Lingadheeranahalli      3 BHK      1521.0   3.0   95.00    3            6245\n",
       "4                  Kothanur      2 BHK      1200.0   2.0   51.00    2            4250"
      ]
     },
     "execution_count": 1,
     "metadata": {},
     "output_type": "execute_result"
    }
   ],
   "source": [
    "import pandas as pd \n",
    "df = pd.read_csv('bhp (1).csv') \n",
    "df.head()"
   ]
  },
  {
   "cell_type": "code",
   "execution_count": 2,
   "id": "8eeea4ce-6534-4776-bf79-de9fdd605881",
   "metadata": {},
   "outputs": [
    {
     "data": {
      "text/plain": [
       "count    1.320000e+04\n",
       "mean     7.920337e+03\n",
       "std      1.067272e+05\n",
       "min      2.670000e+02\n",
       "25%      4.267000e+03\n",
       "50%      5.438000e+03\n",
       "75%      7.317000e+03\n",
       "max      1.200000e+07\n",
       "Name: price_per_sqft, dtype: float64"
      ]
     },
     "execution_count": 2,
     "metadata": {},
     "output_type": "execute_result"
    }
   ],
   "source": [
    "df.price_per_sqft.describe()"
   ]
  },
  {
   "cell_type": "markdown",
   "id": "d102fcfb-39da-4a31-bb27-64db87479cbd",
   "metadata": {},
   "source": [
    "### Note:- \n",
    "From above, you can see that the max price is 12000000 and 267 as min price, which are outliers "
   ]
  },
  {
   "cell_type": "markdown",
   "id": "4acbbf4f-134e-40ec-8cdb-9fefe8f23406",
   "metadata": {},
   "source": [
    "### Using percentile method"
   ]
  },
  {
   "cell_type": "code",
   "execution_count": 28,
   "id": "33bcd9c2-66bf-4d37-a23d-90b73e544d17",
   "metadata": {},
   "outputs": [
    {
     "data": {
      "text/plain": [
       "(np.int64(267), np.int64(12000000))"
      ]
     },
     "execution_count": 28,
     "metadata": {},
     "output_type": "execute_result"
    }
   ],
   "source": [
    "df.price_per_sqft.min(), df.price_per_sqft.max(), "
   ]
  },
  {
   "cell_type": "code",
   "execution_count": 5,
   "id": "9101e3da-5a94-4799-9daa-dd52c5798c9d",
   "metadata": {},
   "outputs": [
    {
     "data": {
      "text/plain": [
       "(1366.184, 50959.36200000098)"
      ]
     },
     "execution_count": 5,
     "metadata": {},
     "output_type": "execute_result"
    }
   ],
   "source": [
    "lower, upper = df.price_per_sqft.quantile([0.001, 0.999]) \n",
    "lower, upper"
   ]
  },
  {
   "cell_type": "code",
   "execution_count": 9,
   "id": "a181a0eb-eb1c-48af-bc7e-1169610a6532",
   "metadata": {},
   "outputs": [
    {
     "data": {
      "text/html": [
       "<div>\n",
       "<style scoped>\n",
       "    .dataframe tbody tr th:only-of-type {\n",
       "        vertical-align: middle;\n",
       "    }\n",
       "\n",
       "    .dataframe tbody tr th {\n",
       "        vertical-align: top;\n",
       "    }\n",
       "\n",
       "    .dataframe thead th {\n",
       "        text-align: right;\n",
       "    }\n",
       "</style>\n",
       "<table border=\"1\" class=\"dataframe\">\n",
       "  <thead>\n",
       "    <tr style=\"text-align: right;\">\n",
       "      <th></th>\n",
       "      <th>total_sqft</th>\n",
       "      <th>bath</th>\n",
       "      <th>price</th>\n",
       "      <th>bhk</th>\n",
       "      <th>price_per_sqft</th>\n",
       "    </tr>\n",
       "  </thead>\n",
       "  <tbody>\n",
       "    <tr>\n",
       "      <th>count</th>\n",
       "      <td>13172.000000</td>\n",
       "      <td>13172.000000</td>\n",
       "      <td>13172.000000</td>\n",
       "      <td>13172.000000</td>\n",
       "      <td>13172.000000</td>\n",
       "    </tr>\n",
       "    <tr>\n",
       "      <th>mean</th>\n",
       "      <td>1537.861049</td>\n",
       "      <td>2.690100</td>\n",
       "      <td>111.591865</td>\n",
       "      <td>2.799651</td>\n",
       "      <td>6663.653735</td>\n",
       "    </tr>\n",
       "    <tr>\n",
       "      <th>std</th>\n",
       "      <td>967.123711</td>\n",
       "      <td>1.337026</td>\n",
       "      <td>145.372047</td>\n",
       "      <td>1.291130</td>\n",
       "      <td>4141.020700</td>\n",
       "    </tr>\n",
       "    <tr>\n",
       "      <th>min</th>\n",
       "      <td>250.000000</td>\n",
       "      <td>1.000000</td>\n",
       "      <td>8.000000</td>\n",
       "      <td>1.000000</td>\n",
       "      <td>1379.000000</td>\n",
       "    </tr>\n",
       "    <tr>\n",
       "      <th>25%</th>\n",
       "      <td>1100.000000</td>\n",
       "      <td>2.000000</td>\n",
       "      <td>50.000000</td>\n",
       "      <td>2.000000</td>\n",
       "      <td>4271.000000</td>\n",
       "    </tr>\n",
       "    <tr>\n",
       "      <th>50%</th>\n",
       "      <td>1274.500000</td>\n",
       "      <td>2.000000</td>\n",
       "      <td>71.550000</td>\n",
       "      <td>3.000000</td>\n",
       "      <td>5438.000000</td>\n",
       "    </tr>\n",
       "    <tr>\n",
       "      <th>75%</th>\n",
       "      <td>1670.000000</td>\n",
       "      <td>3.000000</td>\n",
       "      <td>120.000000</td>\n",
       "      <td>3.000000</td>\n",
       "      <td>7311.000000</td>\n",
       "    </tr>\n",
       "    <tr>\n",
       "      <th>max</th>\n",
       "      <td>30400.000000</td>\n",
       "      <td>40.000000</td>\n",
       "      <td>3600.000000</td>\n",
       "      <td>43.000000</td>\n",
       "      <td>50349.000000</td>\n",
       "    </tr>\n",
       "  </tbody>\n",
       "</table>\n",
       "</div>"
      ],
      "text/plain": [
       "         total_sqft          bath         price           bhk  price_per_sqft\n",
       "count  13172.000000  13172.000000  13172.000000  13172.000000    13172.000000\n",
       "mean    1537.861049      2.690100    111.591865      2.799651     6663.653735\n",
       "std      967.123711      1.337026    145.372047      1.291130     4141.020700\n",
       "min      250.000000      1.000000      8.000000      1.000000     1379.000000\n",
       "25%     1100.000000      2.000000     50.000000      2.000000     4271.000000\n",
       "50%     1274.500000      2.000000     71.550000      3.000000     5438.000000\n",
       "75%     1670.000000      3.000000    120.000000      3.000000     7311.000000\n",
       "max    30400.000000     40.000000   3600.000000     43.000000    50349.000000"
      ]
     },
     "execution_count": 9,
     "metadata": {},
     "output_type": "execute_result"
    }
   ],
   "source": [
    "new_df = df[(df.price_per_sqft > lower) & (df.price_per_sqft < upper)] \n",
    "new_df.describe()"
   ]
  },
  {
   "cell_type": "code",
   "execution_count": 18,
   "id": "3628bf67-d53c-47df-bb5f-e776da7a194b",
   "metadata": {},
   "outputs": [
    {
     "data": {
      "image/png": "[encoded data removed]",
      "text/plain": [
       "<Figure size 800x800 with 2 Axes>"
      ]
     },
     "metadata": {},
     "output_type": "display_data"
    }
   ],
   "source": [
    "import seaborn as sns \n",
    "import matplotlib.pyplot as plt \n",
    "\n",
    "fig, ax = plt.subplots(1, 2, figsize=(8, 8))\n",
    "\n",
    "sns.histplot(df.price_per_sqft, bins=20, kde=True, ax = ax[0]) \n",
    "ax[0].set_title(\"before outliers removal\")\n",
    "\n",
    "\n",
    "sns.histplot(new_df.price_per_sqft, bins=20, kde=True, ax = ax[1]) \n",
    "ax[1].set_title(\"after outliers removal\")\n",
    "\n",
    "plt.show()"
   ]
  },
  {
   "cell_type": "markdown",
   "id": "3f1eb761-5d17-4e39-9432-fb4aa4e318b0",
   "metadata": {},
   "source": [
    "### Using 4-standard deviation"
   ]
  },
  {
   "cell_type": "code",
   "execution_count": 19,
   "id": "793d1ee9-1ae0-4f56-a12e-190e39910355",
   "metadata": {},
   "outputs": [
    {
     "name": "stderr",
     "output_type": "stream",
     "text": [
      "C:\\Users\\GANESH REDDY\\AppData\\Local\\Temp\\ipykernel_6380\\429764787.py:1: SettingWithCopyWarning: \n",
      "A value is trying to be set on a copy of a slice from a DataFrame.\n",
      "Try using .loc[row_indexer,col_indexer] = value instead\n",
      "\n",
      "See the caveats in the documentation: https://pandas.pydata.org/pandas-docs/stable/user_guide/indexing.html#returning-a-view-versus-a-copy\n",
      "  new_df[\"zscore\"] = (new_df.price_per_sqft - new_df.price_per_sqft.mean()) / new_df.price_per_sqft.std()\n"
     ]
    },
    {
     "data": {
      "text/html": [
       "<div>\n",
       "<style scoped>\n",
       "    .dataframe tbody tr th:only-of-type {\n",
       "        vertical-align: middle;\n",
       "    }\n",
       "\n",
       "    .dataframe tbody tr th {\n",
       "        vertical-align: top;\n",
       "    }\n",
       "\n",
       "    .dataframe thead th {\n",
       "        text-align: right;\n",
       "    }\n",
       "</style>\n",
       "<table border=\"1\" class=\"dataframe\">\n",
       "  <thead>\n",
       "    <tr style=\"text-align: right;\">\n",
       "      <th></th>\n",
       "      <th>location</th>\n",
       "      <th>size</th>\n",
       "      <th>total_sqft</th>\n",
       "      <th>bath</th>\n",
       "      <th>price</th>\n",
       "      <th>bhk</th>\n",
       "      <th>price_per_sqft</th>\n",
       "      <th>zscore</th>\n",
       "    </tr>\n",
       "  </thead>\n",
       "  <tbody>\n",
       "    <tr>\n",
       "      <th>0</th>\n",
       "      <td>Electronic City Phase II</td>\n",
       "      <td>2 BHK</td>\n",
       "      <td>1056.0</td>\n",
       "      <td>2.0</td>\n",
       "      <td>39.07</td>\n",
       "      <td>2</td>\n",
       "      <td>3699</td>\n",
       "      <td>-0.715923</td>\n",
       "    </tr>\n",
       "    <tr>\n",
       "      <th>1</th>\n",
       "      <td>Chikka Tirupathi</td>\n",
       "      <td>4 Bedroom</td>\n",
       "      <td>2600.0</td>\n",
       "      <td>5.0</td>\n",
       "      <td>120.00</td>\n",
       "      <td>4</td>\n",
       "      <td>4615</td>\n",
       "      <td>-0.494722</td>\n",
       "    </tr>\n",
       "    <tr>\n",
       "      <th>2</th>\n",
       "      <td>Uttarahalli</td>\n",
       "      <td>3 BHK</td>\n",
       "      <td>1440.0</td>\n",
       "      <td>2.0</td>\n",
       "      <td>62.00</td>\n",
       "      <td>3</td>\n",
       "      <td>4305</td>\n",
       "      <td>-0.569583</td>\n",
       "    </tr>\n",
       "    <tr>\n",
       "      <th>3</th>\n",
       "      <td>Lingadheeranahalli</td>\n",
       "      <td>3 BHK</td>\n",
       "      <td>1521.0</td>\n",
       "      <td>3.0</td>\n",
       "      <td>95.00</td>\n",
       "      <td>3</td>\n",
       "      <td>6245</td>\n",
       "      <td>-0.101099</td>\n",
       "    </tr>\n",
       "    <tr>\n",
       "      <th>4</th>\n",
       "      <td>Kothanur</td>\n",
       "      <td>2 BHK</td>\n",
       "      <td>1200.0</td>\n",
       "      <td>2.0</td>\n",
       "      <td>51.00</td>\n",
       "      <td>2</td>\n",
       "      <td>4250</td>\n",
       "      <td>-0.582864</td>\n",
       "    </tr>\n",
       "  </tbody>\n",
       "</table>\n",
       "</div>"
      ],
      "text/plain": [
       "                   location       size  total_sqft  bath   price  bhk  price_per_sqft    zscore\n",
       "0  Electronic City Phase II      2 BHK      1056.0   2.0   39.07    2            3699 -0.715923\n",
       "1          Chikka Tirupathi  4 Bedroom      2600.0   5.0  120.00    4            4615 -0.494722\n",
       "2               Uttarahalli      3 BHK      1440.0   2.0   62.00    3            4305 -0.569583\n",
       "3        Lingadheeranahalli      3 BHK      1521.0   3.0   95.00    3            6245 -0.101099\n",
       "4                  Kothanur      2 BHK      1200.0   2.0   51.00    2            4250 -0.582864"
      ]
     },
     "execution_count": 19,
     "metadata": {},
     "output_type": "execute_result"
    }
   ],
   "source": [
    "new_df[\"zscore\"] = (new_df.price_per_sqft - new_df.price_per_sqft.mean()) / new_df.price_per_sqft.std() \n",
    "new_df.head()"
   ]
  },
  {
   "cell_type": "code",
   "execution_count": 21,
   "id": "f8186f3c-26d2-43e9-b653-f6ecf894b47f",
   "metadata": {},
   "outputs": [
    {
     "data": {
      "text/html": [
       "<div>\n",
       "<style scoped>\n",
       "    .dataframe tbody tr th:only-of-type {\n",
       "        vertical-align: middle;\n",
       "    }\n",
       "\n",
       "    .dataframe tbody tr th {\n",
       "        vertical-align: top;\n",
       "    }\n",
       "\n",
       "    .dataframe thead th {\n",
       "        text-align: right;\n",
       "    }\n",
       "</style>\n",
       "<table border=\"1\" class=\"dataframe\">\n",
       "  <thead>\n",
       "    <tr style=\"text-align: right;\">\n",
       "      <th></th>\n",
       "      <th>location</th>\n",
       "      <th>size</th>\n",
       "      <th>total_sqft</th>\n",
       "      <th>bath</th>\n",
       "      <th>price</th>\n",
       "      <th>bhk</th>\n",
       "      <th>price_per_sqft</th>\n",
       "      <th>zscore</th>\n",
       "    </tr>\n",
       "  </thead>\n",
       "  <tbody>\n",
       "    <tr>\n",
       "      <th>9</th>\n",
       "      <td>other</td>\n",
       "      <td>6 Bedroom</td>\n",
       "      <td>1020.0</td>\n",
       "      <td>6.0</td>\n",
       "      <td>370.0</td>\n",
       "      <td>6</td>\n",
       "      <td>36274</td>\n",
       "      <td>7.150495</td>\n",
       "    </tr>\n",
       "    <tr>\n",
       "      <th>45</th>\n",
       "      <td>HSR Layout</td>\n",
       "      <td>8 Bedroom</td>\n",
       "      <td>600.0</td>\n",
       "      <td>9.0</td>\n",
       "      <td>200.0</td>\n",
       "      <td>8</td>\n",
       "      <td>33333</td>\n",
       "      <td>6.440283</td>\n",
       "    </tr>\n",
       "    <tr>\n",
       "      <th>190</th>\n",
       "      <td>Bellandur</td>\n",
       "      <td>4 Bedroom</td>\n",
       "      <td>1200.0</td>\n",
       "      <td>5.0</td>\n",
       "      <td>325.0</td>\n",
       "      <td>4</td>\n",
       "      <td>27083</td>\n",
       "      <td>4.930994</td>\n",
       "    </tr>\n",
       "    <tr>\n",
       "      <th>733</th>\n",
       "      <td>Cunningham Road</td>\n",
       "      <td>4 BHK</td>\n",
       "      <td>5270.0</td>\n",
       "      <td>4.0</td>\n",
       "      <td>1250.0</td>\n",
       "      <td>4</td>\n",
       "      <td>23719</td>\n",
       "      <td>4.118633</td>\n",
       "    </tr>\n",
       "    <tr>\n",
       "      <th>760</th>\n",
       "      <td>other</td>\n",
       "      <td>9 Bedroom</td>\n",
       "      <td>600.0</td>\n",
       "      <td>9.0</td>\n",
       "      <td>190.0</td>\n",
       "      <td>9</td>\n",
       "      <td>31666</td>\n",
       "      <td>6.037725</td>\n",
       "    </tr>\n",
       "    <tr>\n",
       "      <th>...</th>\n",
       "      <td>...</td>\n",
       "      <td>...</td>\n",
       "      <td>...</td>\n",
       "      <td>...</td>\n",
       "      <td>...</td>\n",
       "      <td>...</td>\n",
       "      <td>...</td>\n",
       "      <td>...</td>\n",
       "    </tr>\n",
       "    <tr>\n",
       "      <th>13081</th>\n",
       "      <td>other</td>\n",
       "      <td>6 Bedroom</td>\n",
       "      <td>8000.0</td>\n",
       "      <td>6.0</td>\n",
       "      <td>2800.0</td>\n",
       "      <td>6</td>\n",
       "      <td>35000</td>\n",
       "      <td>6.842841</td>\n",
       "    </tr>\n",
       "    <tr>\n",
       "      <th>13094</th>\n",
       "      <td>other</td>\n",
       "      <td>4 Bedroom</td>\n",
       "      <td>1200.0</td>\n",
       "      <td>5.0</td>\n",
       "      <td>325.0</td>\n",
       "      <td>4</td>\n",
       "      <td>27083</td>\n",
       "      <td>4.930994</td>\n",
       "    </tr>\n",
       "    <tr>\n",
       "      <th>13127</th>\n",
       "      <td>other</td>\n",
       "      <td>4 Bedroom</td>\n",
       "      <td>1200.0</td>\n",
       "      <td>5.0</td>\n",
       "      <td>325.0</td>\n",
       "      <td>4</td>\n",
       "      <td>27083</td>\n",
       "      <td>4.930994</td>\n",
       "    </tr>\n",
       "    <tr>\n",
       "      <th>13185</th>\n",
       "      <td>Hulimavu</td>\n",
       "      <td>1 BHK</td>\n",
       "      <td>500.0</td>\n",
       "      <td>1.0</td>\n",
       "      <td>220.0</td>\n",
       "      <td>1</td>\n",
       "      <td>44000</td>\n",
       "      <td>9.016218</td>\n",
       "    </tr>\n",
       "    <tr>\n",
       "      <th>13186</th>\n",
       "      <td>other</td>\n",
       "      <td>4 Bedroom</td>\n",
       "      <td>1200.0</td>\n",
       "      <td>5.0</td>\n",
       "      <td>325.0</td>\n",
       "      <td>4</td>\n",
       "      <td>27083</td>\n",
       "      <td>4.930994</td>\n",
       "    </tr>\n",
       "  </tbody>\n",
       "</table>\n",
       "<p>125 rows × 8 columns</p>\n",
       "</div>"
      ],
      "text/plain": [
       "              location       size  total_sqft  bath   price  bhk  price_per_sqft    zscore\n",
       "9                other  6 Bedroom      1020.0   6.0   370.0    6           36274  7.150495\n",
       "45          HSR Layout  8 Bedroom       600.0   9.0   200.0    8           33333  6.440283\n",
       "190          Bellandur  4 Bedroom      1200.0   5.0   325.0    4           27083  4.930994\n",
       "733    Cunningham Road      4 BHK      5270.0   4.0  1250.0    4           23719  4.118633\n",
       "760              other  9 Bedroom       600.0   9.0   190.0    9           31666  6.037725\n",
       "...                ...        ...         ...   ...     ...  ...             ...       ...\n",
       "13081            other  6 Bedroom      8000.0   6.0  2800.0    6           35000  6.842841\n",
       "13094            other  4 Bedroom      1200.0   5.0   325.0    4           27083  4.930994\n",
       "13127            other  4 Bedroom      1200.0   5.0   325.0    4           27083  4.930994\n",
       "13185         Hulimavu      1 BHK       500.0   1.0   220.0    1           44000  9.016218\n",
       "13186            other  4 Bedroom      1200.0   5.0   325.0    4           27083  4.930994\n",
       "\n",
       "[125 rows x 8 columns]"
      ]
     },
     "execution_count": 21,
     "metadata": {},
     "output_type": "execute_result"
    }
   ],
   "source": [
    "new_df[new_df.zscore > 4]"
   ]
  },
  {
   "cell_type": "code",
   "execution_count": 24,
   "id": "4e4660a9-8642-48b7-8c71-67a335e18ea6",
   "metadata": {},
   "outputs": [
    {
     "data": {
      "text/plain": [
       "(13172, 8)"
      ]
     },
     "execution_count": 24,
     "metadata": {},
     "output_type": "execute_result"
    }
   ],
   "source": [
    "new_df.shape"
   ]
  },
  {
   "cell_type": "code",
   "execution_count": 23,
   "id": "e4a678b3-1237-48b1-ae9b-60fa0b75616a",
   "metadata": {},
   "outputs": [
    {
     "data": {
      "text/plain": [
       "(13047, 8)"
      ]
     },
     "execution_count": 23,
     "metadata": {},
     "output_type": "execute_result"
    }
   ],
   "source": [
    "new_df2 = new_df[(new_df.zscore >= -4) & (new_df.zscore <= 4)] \n",
    "new_df2.shape"
   ]
  },
  {
   "cell_type": "code",
   "execution_count": 26,
   "id": "98edc542-39d3-43af-a43c-97b2b2b72b83",
   "metadata": {},
   "outputs": [
    {
     "data": {
      "text/plain": [
       "125"
      ]
     },
     "execution_count": 26,
     "metadata": {},
     "output_type": "execute_result"
    }
   ],
   "source": [
    "13172 - 13047\n",
    "# 125 are removed"
   ]
  },
  {
   "cell_type": "markdown",
   "id": "6459e7c3-9957-4a47-abbc-21bc38875dd7",
   "metadata": {},
   "source": [
    "### Final dataframe (outlier free)"
   ]
  },
  {
   "cell_type": "code",
   "execution_count": 27,
   "id": "aa152ec6-00b3-4faa-a066-e28c5845a489",
   "metadata": {},
   "outputs": [
    {
     "data": {
      "image/png": "[encoded data removed]",
      "text/plain": [
       "<Figure size 640x480 with 1 Axes>"
      ]
     },
     "metadata": {},
     "output_type": "display_data"
    }
   ],
   "source": [
    "sns.histplot(new_df2.price_per_sqft, kde=True, bins=20) \n",
    "plt.show()"
   ]
  },
  {
   "cell_type": "markdown",
   "id": "e44c90f8-9b96-4978-bee7-66bfbe5e980a",
   "metadata": {},
   "source": [
    "### Outcome:- \n",
    "1. So in step-1 we removed outliers using percentile method\n",
    "2. Later for new_df missing and edge-cased outliers are removed by using z-score\n",
    "3. At each step you can observe the bell-curve shape\n",
    "4. Finally we removed the outliers whose behaviour is weired..."
   ]
  }
 ],
 "metadata": {
  "kernelspec": {
   "display_name": "Python 3 (ipykernel)",
   "language": "python",
   "name": "python3"
  },
  "language_info": {
   "codemirror_mode": {
    "name": "ipython",
    "version": 3
   },
   "file_extension": ".py",
   "mimetype": "text/x-python",
   "name": "python",
   "nbconvert_exporter": "python",
   "pygments_lexer": "ipython3",
   "version": "3.12.2"
  }
 },
 "nbformat": 4,
 "nbformat_minor": 5
}
