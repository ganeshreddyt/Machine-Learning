{
 "cells": [
  {
   "cell_type": "markdown",
   "id": "3640d702-9739-451c-801d-b80a9f41d0c1",
   "metadata": {},
   "source": [
    "### MAD (Median Absolute Deviation)\n",
    "\n",
    "Median - The middle most data point in case of odd length, avg of middle two in case of even length\n",
    "\n",
    "**Why Modified z-score**\n",
    "1. There are some cases where the individual data items will also falls in 3 std-dev which is casual limit. \n",
    "2. But the mean, std-dev moves towards right from the most grouped items to the individual bcz of their higher vals.\n",
    "3. As a result ML model may not learn the pattern properly\n",
    "\n",
    "**Solution** \n",
    "This Modified-z-score which is based on median, concentrating only on most grouped items, and detect such outliers better than traditional z-score\n"
   ]
  },
  {
   "cell_type": "code",
   "execution_count": 3,
   "id": "0bf312ab-0b27-4997-bad4-ad6e3ab92c34",
   "metadata": {},
   "outputs": [
    {
     "data": {
      "text/html": [
       "<div>\n",
       "<style scoped>\n",
       "    .dataframe tbody tr th:only-of-type {\n",
       "        vertical-align: middle;\n",
       "    }\n",
       "\n",
       "    .dataframe tbody tr th {\n",
       "        vertical-align: top;\n",
       "    }\n",
       "\n",
       "    .dataframe thead th {\n",
       "        text-align: right;\n",
       "    }\n",
       "</style>\n",
       "<table border=\"1\" class=\"dataframe\">\n",
       "  <thead>\n",
       "    <tr style=\"text-align: right;\">\n",
       "      <th></th>\n",
       "      <th>Product</th>\n",
       "      <th>Sales</th>\n",
       "    </tr>\n",
       "  </thead>\n",
       "  <tbody>\n",
       "    <tr>\n",
       "      <th>0</th>\n",
       "      <td>Laptop</td>\n",
       "      <td>100</td>\n",
       "    </tr>\n",
       "    <tr>\n",
       "      <th>1</th>\n",
       "      <td>Mouse</td>\n",
       "      <td>105</td>\n",
       "    </tr>\n",
       "    <tr>\n",
       "      <th>2</th>\n",
       "      <td>Keyboard</td>\n",
       "      <td>98</td>\n",
       "    </tr>\n",
       "    <tr>\n",
       "      <th>3</th>\n",
       "      <td>Monitor</td>\n",
       "      <td>102</td>\n",
       "    </tr>\n",
       "    <tr>\n",
       "      <th>4</th>\n",
       "      <td>Tablet</td>\n",
       "      <td>101</td>\n",
       "    </tr>\n",
       "    <tr>\n",
       "      <th>5</th>\n",
       "      <td>Smartphone</td>\n",
       "      <td>500</td>\n",
       "    </tr>\n",
       "    <tr>\n",
       "      <th>6</th>\n",
       "      <td>Headphones</td>\n",
       "      <td>99</td>\n",
       "    </tr>\n",
       "    <tr>\n",
       "      <th>7</th>\n",
       "      <td>Charger</td>\n",
       "      <td>103</td>\n",
       "    </tr>\n",
       "    <tr>\n",
       "      <th>8</th>\n",
       "      <td>USB Drive</td>\n",
       "      <td>100</td>\n",
       "    </tr>\n",
       "    <tr>\n",
       "      <th>9</th>\n",
       "      <td>Speaker</td>\n",
       "      <td>97</td>\n",
       "    </tr>\n",
       "  </tbody>\n",
       "</table>\n",
       "</div>"
      ],
      "text/plain": [
       "      Product  Sales\n",
       "0      Laptop    100\n",
       "1       Mouse    105\n",
       "2    Keyboard     98\n",
       "3     Monitor    102\n",
       "4      Tablet    101\n",
       "5  Smartphone    500\n",
       "6  Headphones     99\n",
       "7     Charger    103\n",
       "8   USB Drive    100\n",
       "9     Speaker     97"
      ]
     },
     "execution_count": 3,
     "metadata": {},
     "output_type": "execute_result"
    }
   ],
   "source": [
    "import pandas as pd \n",
    "\n",
    "data = {\n",
    "    'Product': ['Laptop', 'Mouse', 'Keyboard', 'Monitor', 'Tablet', \n",
    "                'Smartphone', 'Headphones', 'Charger', 'USB Drive', 'Speaker'],\n",
    "    'Sales': [100, 105, 98, 102, 101, 500, 99, 103, 100, 97]  # 500 is an outlier detectable by Modified Z-score\n",
    "}\n",
    "\n",
    "df = pd.DataFrame(data)\n",
    "df "
   ]
  },
  {
   "cell_type": "markdown",
   "id": "4d27aaca-582d-4c39-a98a-410440245a30",
   "metadata": {},
   "source": [
    "### Formulae  \n",
    "normal  z_score = `(X - mean(X)) / std(X)`\n",
    "\n",
    " MAD = `median(|X - median(X)|)` \n",
    "\n",
    " modified_z_score = `0.6745 * (X - median(X)) / MAD` "
   ]
  },
  {
   "cell_type": "code",
   "execution_count": 4,
   "id": "f5287174-0171-4079-b5aa-b20fa6af2a65",
   "metadata": {},
   "outputs": [
    {
     "data": {
      "text/html": [
       "<div>\n",
       "<style scoped>\n",
       "    .dataframe tbody tr th:only-of-type {\n",
       "        vertical-align: middle;\n",
       "    }\n",
       "\n",
       "    .dataframe tbody tr th {\n",
       "        vertical-align: top;\n",
       "    }\n",
       "\n",
       "    .dataframe thead th {\n",
       "        text-align: right;\n",
       "    }\n",
       "</style>\n",
       "<table border=\"1\" class=\"dataframe\">\n",
       "  <thead>\n",
       "    <tr style=\"text-align: right;\">\n",
       "      <th></th>\n",
       "      <th>Sales</th>\n",
       "    </tr>\n",
       "  </thead>\n",
       "  <tbody>\n",
       "    <tr>\n",
       "      <th>count</th>\n",
       "      <td>10.000000</td>\n",
       "    </tr>\n",
       "    <tr>\n",
       "      <th>mean</th>\n",
       "      <td>140.500000</td>\n",
       "    </tr>\n",
       "    <tr>\n",
       "      <th>std</th>\n",
       "      <td>126.337511</td>\n",
       "    </tr>\n",
       "    <tr>\n",
       "      <th>min</th>\n",
       "      <td>97.000000</td>\n",
       "    </tr>\n",
       "    <tr>\n",
       "      <th>25%</th>\n",
       "      <td>99.250000</td>\n",
       "    </tr>\n",
       "    <tr>\n",
       "      <th>50%</th>\n",
       "      <td>100.500000</td>\n",
       "    </tr>\n",
       "    <tr>\n",
       "      <th>75%</th>\n",
       "      <td>102.750000</td>\n",
       "    </tr>\n",
       "    <tr>\n",
       "      <th>max</th>\n",
       "      <td>500.000000</td>\n",
       "    </tr>\n",
       "  </tbody>\n",
       "</table>\n",
       "</div>"
      ],
      "text/plain": [
       "            Sales\n",
       "count   10.000000\n",
       "mean   140.500000\n",
       "std    126.337511\n",
       "min     97.000000\n",
       "25%     99.250000\n",
       "50%    100.500000\n",
       "75%    102.750000\n",
       "max    500.000000"
      ]
     },
     "execution_count": 4,
     "metadata": {},
     "output_type": "execute_result"
    }
   ],
   "source": [
    "df.describe()"
   ]
  },
  {
   "cell_type": "markdown",
   "id": "4ff503ad-af05-4c60-aa8b-53f92c93a1bb",
   "metadata": {},
   "source": [
    "### Z_score "
   ]
  },
  {
   "cell_type": "code",
   "execution_count": 5,
   "id": "1168b4bc-caf6-424a-b9c9-a19b39eaeed4",
   "metadata": {},
   "outputs": [
    {
     "data": {
      "text/html": [
       "<div>\n",
       "<style scoped>\n",
       "    .dataframe tbody tr th:only-of-type {\n",
       "        vertical-align: middle;\n",
       "    }\n",
       "\n",
       "    .dataframe tbody tr th {\n",
       "        vertical-align: top;\n",
       "    }\n",
       "\n",
       "    .dataframe thead th {\n",
       "        text-align: right;\n",
       "    }\n",
       "</style>\n",
       "<table border=\"1\" class=\"dataframe\">\n",
       "  <thead>\n",
       "    <tr style=\"text-align: right;\">\n",
       "      <th></th>\n",
       "      <th>Product</th>\n",
       "      <th>Sales</th>\n",
       "      <th>z_score</th>\n",
       "    </tr>\n",
       "  </thead>\n",
       "  <tbody>\n",
       "    <tr>\n",
       "      <th>0</th>\n",
       "      <td>Laptop</td>\n",
       "      <td>100</td>\n",
       "      <td>-0.320570</td>\n",
       "    </tr>\n",
       "    <tr>\n",
       "      <th>1</th>\n",
       "      <td>Mouse</td>\n",
       "      <td>105</td>\n",
       "      <td>-0.280993</td>\n",
       "    </tr>\n",
       "    <tr>\n",
       "      <th>2</th>\n",
       "      <td>Keyboard</td>\n",
       "      <td>98</td>\n",
       "      <td>-0.336400</td>\n",
       "    </tr>\n",
       "    <tr>\n",
       "      <th>3</th>\n",
       "      <td>Monitor</td>\n",
       "      <td>102</td>\n",
       "      <td>-0.304739</td>\n",
       "    </tr>\n",
       "    <tr>\n",
       "      <th>4</th>\n",
       "      <td>Tablet</td>\n",
       "      <td>101</td>\n",
       "      <td>-0.312655</td>\n",
       "    </tr>\n",
       "    <tr>\n",
       "      <th>5</th>\n",
       "      <td>Smartphone</td>\n",
       "      <td>500</td>\n",
       "      <td>2.845552</td>\n",
       "    </tr>\n",
       "    <tr>\n",
       "      <th>6</th>\n",
       "      <td>Headphones</td>\n",
       "      <td>99</td>\n",
       "      <td>-0.328485</td>\n",
       "    </tr>\n",
       "    <tr>\n",
       "      <th>7</th>\n",
       "      <td>Charger</td>\n",
       "      <td>103</td>\n",
       "      <td>-0.296824</td>\n",
       "    </tr>\n",
       "    <tr>\n",
       "      <th>8</th>\n",
       "      <td>USB Drive</td>\n",
       "      <td>100</td>\n",
       "      <td>-0.320570</td>\n",
       "    </tr>\n",
       "    <tr>\n",
       "      <th>9</th>\n",
       "      <td>Speaker</td>\n",
       "      <td>97</td>\n",
       "      <td>-0.344316</td>\n",
       "    </tr>\n",
       "  </tbody>\n",
       "</table>\n",
       "</div>"
      ],
      "text/plain": [
       "      Product  Sales   z_score\n",
       "0      Laptop    100 -0.320570\n",
       "1       Mouse    105 -0.280993\n",
       "2    Keyboard     98 -0.336400\n",
       "3     Monitor    102 -0.304739\n",
       "4      Tablet    101 -0.312655\n",
       "5  Smartphone    500  2.845552\n",
       "6  Headphones     99 -0.328485\n",
       "7     Charger    103 -0.296824\n",
       "8   USB Drive    100 -0.320570\n",
       "9     Speaker     97 -0.344316"
      ]
     },
     "execution_count": 5,
     "metadata": {},
     "output_type": "execute_result"
    }
   ],
   "source": [
    "df['z_score'] = (df.Sales - df.Sales.mean()) / df.Sales.std() \n",
    "df"
   ]
  },
  {
   "cell_type": "code",
   "execution_count": 8,
   "id": "0afa0d6f-0ea0-4c43-8104-8ff17f3cda84",
   "metadata": {},
   "outputs": [
    {
     "data": {
      "text/html": [
       "<div>\n",
       "<style scoped>\n",
       "    .dataframe tbody tr th:only-of-type {\n",
       "        vertical-align: middle;\n",
       "    }\n",
       "\n",
       "    .dataframe tbody tr th {\n",
       "        vertical-align: top;\n",
       "    }\n",
       "\n",
       "    .dataframe thead th {\n",
       "        text-align: right;\n",
       "    }\n",
       "</style>\n",
       "<table border=\"1\" class=\"dataframe\">\n",
       "  <thead>\n",
       "    <tr style=\"text-align: right;\">\n",
       "      <th></th>\n",
       "      <th>Product</th>\n",
       "      <th>Sales</th>\n",
       "      <th>z_score</th>\n",
       "    </tr>\n",
       "  </thead>\n",
       "  <tbody>\n",
       "  </tbody>\n",
       "</table>\n",
       "</div>"
      ],
      "text/plain": [
       "Empty DataFrame\n",
       "Columns: [Product, Sales, z_score]\n",
       "Index: []"
      ]
     },
     "execution_count": 8,
     "metadata": {},
     "output_type": "execute_result"
    }
   ],
   "source": [
    "# checking with common Std-dev val i.e., 3 and -3\n",
    "df[ (df.z_score > 3) | (df.z_score < -3)]"
   ]
  },
  {
   "cell_type": "markdown",
   "id": "926194c5-e2e0-4227-b74e-c641bdf3da8e",
   "metadata": {},
   "source": [
    "### Modified Z_score"
   ]
  },
  {
   "cell_type": "code",
   "execution_count": 12,
   "id": "d2fa578a-647b-4317-8606-58059364e5d4",
   "metadata": {},
   "outputs": [
    {
     "data": {
      "text/plain": [
       "0      0.5\n",
       "1      4.5\n",
       "2      2.5\n",
       "3      1.5\n",
       "4      0.5\n",
       "5    399.5\n",
       "6      1.5\n",
       "7      2.5\n",
       "8      0.5\n",
       "9      3.5\n",
       "Name: Sales, dtype: float64"
      ]
     },
     "execution_count": 12,
     "metadata": {},
     "output_type": "execute_result"
    }
   ],
   "source": [
    "import numpy as np \n",
    "\n",
    "median = df.Sales.median() \n",
    "individual_mdn = np.abs(df.Sales - median) \n",
    "individual_mdn"
   ]
  },
  {
   "cell_type": "markdown",
   "id": "80ed1b42-3762-4bfa-8779-ccf8b1d3fa88",
   "metadata": {},
   "source": [
    "##### Note: Did you observe how the Mobile Sales (idx=5) which is 500 is treated here, with a higher mark, bcz of median"
   ]
  },
  {
   "cell_type": "code",
   "execution_count": 13,
   "id": "a6b84c5c-a06e-4f97-abaf-8167964d0f48",
   "metadata": {},
   "outputs": [
    {
     "data": {
      "text/plain": [
       "np.float64(2.0)"
      ]
     },
     "execution_count": 13,
     "metadata": {},
     "output_type": "execute_result"
    }
   ],
   "source": [
    "MAD = individual_mdn.median() \n",
    "MAD"
   ]
  },
  {
   "cell_type": "code",
   "execution_count": 14,
   "id": "1cba8567-d9eb-4708-b2e3-ca86f7437c0a",
   "metadata": {},
   "outputs": [],
   "source": [
    "def calc_modified_z_score(x, median=median, MAD=MAD): \n",
    "    return 0.6745 * (x - median) / MAD"
   ]
  },
  {
   "cell_type": "code",
   "execution_count": 15,
   "id": "700c06be-13b4-49ca-9810-4540a994d78e",
   "metadata": {},
   "outputs": [
    {
     "data": {
      "text/html": [
       "<div>\n",
       "<style scoped>\n",
       "    .dataframe tbody tr th:only-of-type {\n",
       "        vertical-align: middle;\n",
       "    }\n",
       "\n",
       "    .dataframe tbody tr th {\n",
       "        vertical-align: top;\n",
       "    }\n",
       "\n",
       "    .dataframe thead th {\n",
       "        text-align: right;\n",
       "    }\n",
       "</style>\n",
       "<table border=\"1\" class=\"dataframe\">\n",
       "  <thead>\n",
       "    <tr style=\"text-align: right;\">\n",
       "      <th></th>\n",
       "      <th>Product</th>\n",
       "      <th>Sales</th>\n",
       "      <th>z_score</th>\n",
       "      <th>modified_Z_score</th>\n",
       "    </tr>\n",
       "  </thead>\n",
       "  <tbody>\n",
       "    <tr>\n",
       "      <th>0</th>\n",
       "      <td>Laptop</td>\n",
       "      <td>100</td>\n",
       "      <td>-0.320570</td>\n",
       "      <td>-0.168625</td>\n",
       "    </tr>\n",
       "    <tr>\n",
       "      <th>1</th>\n",
       "      <td>Mouse</td>\n",
       "      <td>105</td>\n",
       "      <td>-0.280993</td>\n",
       "      <td>1.517625</td>\n",
       "    </tr>\n",
       "    <tr>\n",
       "      <th>2</th>\n",
       "      <td>Keyboard</td>\n",
       "      <td>98</td>\n",
       "      <td>-0.336400</td>\n",
       "      <td>-0.843125</td>\n",
       "    </tr>\n",
       "    <tr>\n",
       "      <th>3</th>\n",
       "      <td>Monitor</td>\n",
       "      <td>102</td>\n",
       "      <td>-0.304739</td>\n",
       "      <td>0.505875</td>\n",
       "    </tr>\n",
       "    <tr>\n",
       "      <th>4</th>\n",
       "      <td>Tablet</td>\n",
       "      <td>101</td>\n",
       "      <td>-0.312655</td>\n",
       "      <td>0.168625</td>\n",
       "    </tr>\n",
       "    <tr>\n",
       "      <th>5</th>\n",
       "      <td>Smartphone</td>\n",
       "      <td>500</td>\n",
       "      <td>2.845552</td>\n",
       "      <td>134.731375</td>\n",
       "    </tr>\n",
       "    <tr>\n",
       "      <th>6</th>\n",
       "      <td>Headphones</td>\n",
       "      <td>99</td>\n",
       "      <td>-0.328485</td>\n",
       "      <td>-0.505875</td>\n",
       "    </tr>\n",
       "    <tr>\n",
       "      <th>7</th>\n",
       "      <td>Charger</td>\n",
       "      <td>103</td>\n",
       "      <td>-0.296824</td>\n",
       "      <td>0.843125</td>\n",
       "    </tr>\n",
       "    <tr>\n",
       "      <th>8</th>\n",
       "      <td>USB Drive</td>\n",
       "      <td>100</td>\n",
       "      <td>-0.320570</td>\n",
       "      <td>-0.168625</td>\n",
       "    </tr>\n",
       "    <tr>\n",
       "      <th>9</th>\n",
       "      <td>Speaker</td>\n",
       "      <td>97</td>\n",
       "      <td>-0.344316</td>\n",
       "      <td>-1.180375</td>\n",
       "    </tr>\n",
       "  </tbody>\n",
       "</table>\n",
       "</div>"
      ],
      "text/plain": [
       "      Product  Sales   z_score  modified_Z_score\n",
       "0      Laptop    100 -0.320570         -0.168625\n",
       "1       Mouse    105 -0.280993          1.517625\n",
       "2    Keyboard     98 -0.336400         -0.843125\n",
       "3     Monitor    102 -0.304739          0.505875\n",
       "4      Tablet    101 -0.312655          0.168625\n",
       "5  Smartphone    500  2.845552        134.731375\n",
       "6  Headphones     99 -0.328485         -0.505875\n",
       "7     Charger    103 -0.296824          0.843125\n",
       "8   USB Drive    100 -0.320570         -0.168625\n",
       "9     Speaker     97 -0.344316         -1.180375"
      ]
     },
     "execution_count": 15,
     "metadata": {},
     "output_type": "execute_result"
    }
   ],
   "source": [
    "df['modified_Z_score'] = df.Sales.apply(calc_modified_z_score) \n",
    "df"
   ]
  },
  {
   "cell_type": "code",
   "execution_count": 16,
   "id": "221c38f0-9584-4074-9446-a61910ebeab4",
   "metadata": {},
   "outputs": [
    {
     "data": {
      "text/html": [
       "<div>\n",
       "<style scoped>\n",
       "    .dataframe tbody tr th:only-of-type {\n",
       "        vertical-align: middle;\n",
       "    }\n",
       "\n",
       "    .dataframe tbody tr th {\n",
       "        vertical-align: top;\n",
       "    }\n",
       "\n",
       "    .dataframe thead th {\n",
       "        text-align: right;\n",
       "    }\n",
       "</style>\n",
       "<table border=\"1\" class=\"dataframe\">\n",
       "  <thead>\n",
       "    <tr style=\"text-align: right;\">\n",
       "      <th></th>\n",
       "      <th>Product</th>\n",
       "      <th>Sales</th>\n",
       "      <th>z_score</th>\n",
       "      <th>modified_Z_score</th>\n",
       "    </tr>\n",
       "  </thead>\n",
       "  <tbody>\n",
       "    <tr>\n",
       "      <th>5</th>\n",
       "      <td>Smartphone</td>\n",
       "      <td>500</td>\n",
       "      <td>2.845552</td>\n",
       "      <td>134.731375</td>\n",
       "    </tr>\n",
       "  </tbody>\n",
       "</table>\n",
       "</div>"
      ],
      "text/plain": [
       "      Product  Sales   z_score  modified_Z_score\n",
       "5  Smartphone    500  2.845552        134.731375"
      ]
     },
     "execution_count": 16,
     "metadata": {},
     "output_type": "execute_result"
    }
   ],
   "source": [
    "# Find outliers with modified_z_score \n",
    "df[ (df.modified_Z_score > 3) | (df.modified_Z_score < -3)]"
   ]
  },
  {
   "cell_type": "markdown",
   "id": "227f2601-7dac-487d-9e32-0b09b769b6ab",
   "metadata": {},
   "source": [
    "### Outcome :- \n",
    "Finally got the expected output !... \n",
    "\n",
    "1Normal Z-score struggles to detect outliers when the dataset is small and skewed because it uses mean and standard deviation, which can be affected by extreme values.\n",
    "\n",
    "Modified Z-score (which uses median absolute deviation) is robust to outliers, so it will correctly flag 500 as an outlier."
   ]
  }
 ],
 "metadata": {
  "kernelspec": {
   "display_name": "Python 3 (ipykernel)",
   "language": "python",
   "name": "python3"
  },
  "language_info": {
   "codemirror_mode": {
    "name": "ipython",
    "version": 3
   },
   "file_extension": ".py",
   "mimetype": "text/x-python",
   "name": "python",
   "nbconvert_exporter": "python",
   "pygments_lexer": "ipython3",
   "version": "3.12.2"
  }
 },
 "nbformat": 4,
 "nbformat_minor": 5
}
