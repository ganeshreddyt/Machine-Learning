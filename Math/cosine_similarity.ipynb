{
 "cells": [
  {
   "cell_type": "markdown",
   "id": "2eaa2ae6-8f3c-4d5d-82a7-a2fb22b9af07",
   "metadata": {},
   "source": [
    "### Cosine similarity \n",
    "##### Eg :- To check the content equality of docs in NLP"
   ]
  },
  {
   "cell_type": "code",
   "execution_count": 16,
   "id": "97b13e9e-c50d-4513-996c-0be311e3e9fd",
   "metadata": {},
   "outputs": [
    {
     "data": {
      "text/html": [
       "<div>\n",
       "<style scoped>\n",
       "    .dataframe tbody tr th:only-of-type {\n",
       "        vertical-align: middle;\n",
       "    }\n",
       "\n",
       "    .dataframe tbody tr th {\n",
       "        vertical-align: top;\n",
       "    }\n",
       "\n",
       "    .dataframe thead th {\n",
       "        text-align: right;\n",
       "    }\n",
       "</style>\n",
       "<table border=\"1\" class=\"dataframe\">\n",
       "  <thead>\n",
       "    <tr style=\"text-align: right;\">\n",
       "      <th></th>\n",
       "      <th>machine learning</th>\n",
       "      <th>ai</th>\n",
       "      <th>cybersecurity</th>\n",
       "      <th>deep learning</th>\n",
       "    </tr>\n",
       "  </thead>\n",
       "  <tbody>\n",
       "    <tr>\n",
       "      <th>para0</th>\n",
       "      <td>3</td>\n",
       "      <td>6</td>\n",
       "      <td>0</td>\n",
       "      <td>1</td>\n",
       "    </tr>\n",
       "    <tr>\n",
       "      <th>para1</th>\n",
       "      <td>0</td>\n",
       "      <td>1</td>\n",
       "      <td>8</td>\n",
       "      <td>0</td>\n",
       "    </tr>\n",
       "    <tr>\n",
       "      <th>para2</th>\n",
       "      <td>1</td>\n",
       "      <td>6</td>\n",
       "      <td>0</td>\n",
       "      <td>4</td>\n",
       "    </tr>\n",
       "  </tbody>\n",
       "</table>\n",
       "</div>"
      ],
      "text/plain": [
       "       machine learning  ai  cybersecurity  deep learning\n",
       "para0                 3   6              0              1\n",
       "para1                 0   1              8              0\n",
       "para2                 1   6              0              4"
      ]
     },
     "execution_count": 16,
     "metadata": {},
     "output_type": "execute_result"
    }
   ],
   "source": [
    "import tensorflow as tf \n",
    "import pandas as pd \n",
    "from collections import Counter\n",
    "\n",
    "paragraphs = [\n",
    "    \"Machine learning is a subset of AI. AI and machine learning enable systems to learn and improve from experience without explicit programming. \"\n",
    "    \"The core idea of AI and machine learning is to develop models that can make predictions based on data. AI-driven and Deep learning algorithms like decision trees, neural networks, and support vector machines \"\n",
    "    \"play a crucial role in AI learning patterns and making intelligent AI-based decisions.\",\n",
    "\n",
    "    \"Cybersecurity is crucial in cybersecurity strategies for protecting sensitive data and preventing cyber attacks. \"\n",
    "    \"Encryption, firewalls, and intrusion detection systems help cybersecurity professionals safeguard networks from malicious cybersecurity activities. \"\n",
    "    \"Ethical hacking and penetration testing play a significant role in cybersecurity by identifying cybersecurity vulnerabilities before cyber attackers exploit them. \"\n",
    "    \"As cyber threats evolve, organizations must implement strong cybersecurity security protocols to defend against cybersecurity data breaches.\",\n",
    "\n",
    "    \"Deep learning is a subset of machine learning and AI. Deep learning models, based on neural networks, power AI applications. \"\n",
    "    \"These deep learning networks, often referred to as deep neural networks, are used in AI applications like image recognition, natural language processing, and speech recognition. \"\n",
    "    \"AI-powered training of deep learning models requires large datasets and powerful computational resources for AI-driven innovations.\"\n",
    "]\n",
    "\n",
    "keywords = [\"machine learning\", \"ai\", \"cybersecurity\", \"deep learning\"]\n",
    "df = pd.DataFrame(columns=keywords) \n",
    "\n",
    "\n",
    "for i, para in enumerate(paragraphs):\n",
    "    word_counts = Counter()\n",
    "    for word in keywords:\n",
    "        word_counts[word] += para.lower().count(word.lower()) \n",
    "    idx = \"para\" + str(i) \n",
    "    df.loc[idx] = [word_counts[word] for word in keywords] \n",
    "\n",
    "df"
   ]
  },
  {
   "cell_type": "code",
   "execution_count": null,
   "id": "217d3abd-f3e1-4900-a2ab-ff19eac041eb",
   "metadata": {},
   "outputs": [],
   "source": [
    "# Now, we have the features like machine learning, ai, cyber security grabed from above sample para's \n",
    "# Lets verify which para is talking about ai mainly using cosine simility "
   ]
  },
  {
   "attachments": {
    "50ae5e78-9bc7-48e3-a449-7b31d471b068.png": {
     "image/png": "[encoded data removed]"
    }
   },
   "cell_type": "markdown",
   "id": "f19384c4-75aa-414b-898b-49bcf2484662",
   "metadata": {},
   "source": [
    "### Cosine Similarity  \n",
    "CosineSimilarity calculates how similar two vectors are based on the angle between them., I am assuming that [[7,6, 0, 8]] these are basic vals in case a para is about ai..... \n",
    "\n",
    "![image.png](attachment:50ae5e78-9bc7-48e3-a449-7b31d471b068.png)\n"
   ]
  },
  {
   "attachments": {
    "42b62c38-2780-44b9-ada5-6bf684d61aae.png": {
     "image/png": "[encoded data removed]"
    }
   },
   "cell_type": "markdown",
   "id": "193d2dcb-c5ef-4577-b573-bae495352a32",
   "metadata": {},
   "source": [
    " ![image.png](attachment:42b62c38-2780-44b9-ada5-6bf684d61aae.png)"
   ]
  },
  {
   "cell_type": "markdown",
   "id": "1e538c74-43b0-4b18-9d12-9421e62d197b",
   "metadata": {},
   "source": [
    "#### Note :- \n",
    "The output is negative because tf.keras.losses.CosineSimilarity is designed as a loss function (lower value means more similar). To get actual similarity, just negate the result:\n",
    "\n",
    "Cosine Similarity =  −Cosine Loss"
   ]
  },
  {
   "cell_type": "code",
   "execution_count": 33,
   "id": "bc955b76-1c39-499c-b740-5b6abc5ae60e",
   "metadata": {},
   "outputs": [
    {
     "data": {
      "text/plain": [
       "(1, 4)"
      ]
     },
     "execution_count": 33,
     "metadata": {},
     "output_type": "execute_result"
    }
   ],
   "source": [
    "df.loc[\"para0\"].values.reshape(1, -1).shape"
   ]
  },
  {
   "cell_type": "code",
   "execution_count": 24,
   "id": "c74b8043-31bf-4cc0-be77-63b4e4fdaea2",
   "metadata": {},
   "outputs": [
    {
     "data": {
      "text/plain": [
       "(1, 4)"
      ]
     },
     "execution_count": 24,
     "metadata": {},
     "output_type": "execute_result"
    }
   ],
   "source": [
    "import numpy as np\n",
    "np.array([[7,6, 0, 8]]).shape"
   ]
  },
  {
   "cell_type": "code",
   "execution_count": 37,
   "id": "c0d0ac7f-c780-4ac2-a177-539721f65741",
   "metadata": {},
   "outputs": [
    {
     "data": {
      "text/plain": [
       "np.float32(0.78512955)"
      ]
     },
     "execution_count": 37,
     "metadata": {},
     "output_type": "execute_result"
    }
   ],
   "source": [
    "# checking similarity of ai related content with in para1 \n",
    "\n",
    "actual_content = tf.constant([[7, 6, 0, 8]], dtype=tf.float32)  # my sample vector, assumed one\n",
    "\n",
    "para1 = df.loc[\"para0\"].values.reshape(1, -1)   \n",
    "para1 = tf.constant(para1, dtype=tf.float32)   # Convert to TensorFlow tensor\n",
    "\n",
    "cosine_loss = tf.keras.losses.CosineSimilarity(axis=1) \n",
    "cosine_similarity = -cosine_loss(actual_content, para1) \n",
    "cosine_similarity.numpy()"
   ]
  },
  {
   "cell_type": "code",
   "execution_count": 38,
   "id": "f678d1b0-6bba-4554-83f6-ac0727e90fdd",
   "metadata": {},
   "outputs": [
    {
     "data": {
      "text/plain": [
       "np.float32(0.06096793)"
      ]
     },
     "execution_count": 38,
     "metadata": {},
     "output_type": "execute_result"
    }
   ],
   "source": [
    "# checking similarity of ai related content with in para2\n",
    "\n",
    "actual_content = tf.constant([[7, 6, 0, 8]], dtype=tf.float32)  # my sample vector, assumed one\n",
    "\n",
    "para1 = df.loc[\"para1\"].values.reshape(1, -1)   \n",
    "para1 = tf.constant(para1, dtype=tf.float32)   # Convert to TensorFlow tensor\n",
    "\n",
    "cosine_loss = tf.keras.losses.CosineSimilarity(axis=1) \n",
    "cosine_similarity = -cosine_loss(actual_content, para1) \n",
    "cosine_similarity.numpy()"
   ]
  },
  {
   "cell_type": "code",
   "execution_count": 39,
   "id": "d882062a-04bf-456a-8a4a-6eec3bb50142",
   "metadata": {},
   "outputs": [
    {
     "data": {
      "text/plain": [
       "np.float32(0.8439762)"
      ]
     },
     "execution_count": 39,
     "metadata": {},
     "output_type": "execute_result"
    }
   ],
   "source": [
    "# checking similarity of ai related content with in para3\n",
    "\n",
    "actual_content = tf.constant([[7, 6, 0, 8]], dtype=tf.float32)  # my sample vector, assumed one\n",
    "\n",
    "para1 = df.loc[\"para2\"].values.reshape(1, -1)   \n",
    "para1 = tf.constant(para1, dtype=tf.float32)   # Convert to TensorFlow tensor\n",
    "\n",
    "cosine_loss = tf.keras.losses.CosineSimilarity(axis=1) \n",
    "cosine_similarity = -cosine_loss(actual_content, para1) \n",
    "cosine_similarity.numpy()"
   ]
  },
  {
   "cell_type": "markdown",
   "id": "6c4c5ddf-5f01-4331-adfd-b033b197ef43",
   "metadata": {},
   "source": [
    "### Observation :- \n",
    "The result is stating that `how much percentage` of content is matching with my sample one or target feature.\n",
    "\n",
    "1. 0.78512955 ~ 78.5%     Similarity content in para1, yes it is talking about ai\n",
    "2. 0.06096793 ~ 06.09%    It is out of ai related\n",
    "3. 0.8439762 ~ 84.3%      Content is about ai"
   ]
  },
  {
   "cell_type": "markdown",
   "id": "1cd09fcf-a0e5-430a-a7f9-c9a255f44f28",
   "metadata": {},
   "source": [
    "### Batch inputs \n",
    "We can provide all in single pass"
   ]
  },
  {
   "cell_type": "code",
   "execution_count": 44,
   "id": "722aa85e-d8ef-424e-b7e4-154aa5b989c1",
   "metadata": {},
   "outputs": [
    {
     "data": {
      "text/plain": [
       "(3, 4)"
      ]
     },
     "execution_count": 44,
     "metadata": {},
     "output_type": "execute_result"
    }
   ],
   "source": [
    "df.values.shape"
   ]
  },
  {
   "cell_type": "code",
   "execution_count": 48,
   "id": "f08bceba-9ecb-408a-9422-00e876cda426",
   "metadata": {},
   "outputs": [
    {
     "data": {
      "text/plain": [
       "array([0.78512955, 0.06096793, 0.8439762 ], dtype=float32)"
      ]
     },
     "execution_count": 48,
     "metadata": {},
     "output_type": "execute_result"
    }
   ],
   "source": [
    "# take 3 instances for 3 different para's \n",
    "vector_a = tf.constant([[7, 6, 0, 8], [7, 6, 0, 8], [7, 6, 0, 8]], dtype=np.float32)\n",
    "vector_b = tf.constant(df.values.reshape(3, -1), dtype=np.float32) \n",
    "\n",
    "cosine_loss2 = tf.keras.losses.CosineSimilarity(axis=1, reduction=None) \n",
    "cosine_similarity2  = -cosine_loss2(vector_a, vector_b) \n",
    "cosine_similarity2.numpy()"
   ]
  },
  {
   "cell_type": "code",
   "execution_count": null,
   "id": "f3264f7f-f5c3-42db-8488-fcdec3b80832",
   "metadata": {},
   "outputs": [],
   "source": [
    "These are the vals that we got before, this is like batch processing"
   ]
  }
 ],
 "metadata": {
  "kernelspec": {
   "display_name": "Python 3 (ipykernel)",
   "language": "python",
   "name": "python3"
  },
  "language_info": {
   "codemirror_mode": {
    "name": "ipython",
    "version": 3
   },
   "file_extension": ".py",
   "mimetype": "text/x-python",
   "name": "python",
   "nbconvert_exporter": "python",
   "pygments_lexer": "ipython3",
   "version": "3.12.2"
  }
 },
 "nbformat": 4,
 "nbformat_minor": 5
}
